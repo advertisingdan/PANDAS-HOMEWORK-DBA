{
 "cells": [
  {
   "cell_type": "markdown",
   "metadata": {},
   "source": [
    "### PyCity Schools Analysis\n",
    "* Overall,smaller schools seemed to peform better in math, reading and overall passing grades. School size seems to play an important role in the overall passing scores.\n",
    "\n",
    "* The data indicates that schools with higher budgets and higher spending per student did not necessary yield better test results.\n",
    "\n",
    "* More analysis may be required to required to determine if the effect is due to smaller school sizes or other factors, especially when considering the performance of Charter Schools"
   ]
  },
  {
   "cell_type": "code",
   "execution_count": null,
   "metadata": {},
   "outputs": [],
   "source": []
  },
  {
   "cell_type": "code",
   "execution_count": 4,
   "metadata": {},
   "outputs": [
    {
     "name": "stdout",
     "output_type": "stream",
     "text": [
      "   Student ID     student_name gender grade        school_name  reading_score  \\\n",
      "0           0     Paul Bradley      M   9th  Huang High School             66   \n",
      "1           1     Victor Smith      M  12th  Huang High School             94   \n",
      "2           2  Kevin Rodriguez      M  12th  Huang High School             90   \n",
      "\n",
      "   math_score  \n",
      "0          79  \n",
      "1          61  \n",
      "2          60  \n",
      "   School ID           school_name      type  size   budget\n",
      "0          0     Huang High School  District  2917  1910635\n",
      "1          1  Figueroa High School  District  2949  1884411\n",
      "2          2   Shelton High School   Charter  1761  1056600\n"
     ]
    }
   ],
   "source": [
    "import os\n",
    "#import csv\n",
    "import pandas as pd\n",
    "import numpy as np\n",
    "\n",
    "#create path variable and assign relevant file names.\n",
    "fp_students=os.path.join(\"Resources\",\"students_complete.csv\")\n",
    "fp_schools=os.path.join(\"Resources\",\"schools_complete.csv\")\n",
    "\n",
    "#read files into pandas data frames.\n",
    "students_df = pd.read_csv(fp_students)\n",
    "\n",
    "schools_df  = pd.read_csv(fp_schools)\n",
    "\n",
    "print(students_df.head(3))\n",
    "print(schools_df.head(3))\n",
    "#students_df.columns"
   ]
  },
  {
   "cell_type": "code",
   "execution_count": 5,
   "metadata": {},
   "outputs": [
    {
     "name": "stdout",
     "output_type": "stream",
     "text": [
      "15\n",
      "39170\n",
      "24649428\n",
      "81.87784018381414\n",
      "78.98537145774827\n"
     ]
    }
   ],
   "source": [
    "#Determine district totals like total schools, total students, total budget, avg math score, avg reading score, % passing match, \n",
    "# % passing reading and overall passing rate. \n",
    "school_count= schools_df[\"school_name\"].count()\n",
    "student_count = students_df[\"Student ID\"].count()\n",
    "tot_budget = schools_df[\"budget\"].sum()\n",
    "mean_reading_score = students_df[\"reading_score\"].mean()\n",
    "mean_math_score = students_df[\"math_score\"].mean()\n",
    "\n",
    "#print values to verify \n",
    "#print(student_count)\n",
    "print(school_count)\n",
    "print(student_count)\n",
    "print(tot_budget)\n",
    "print(mean_reading_score)\n",
    "print(mean_math_score)"
   ]
  },
  {
   "cell_type": "code",
   "execution_count": 6,
   "metadata": {},
   "outputs": [
    {
     "name": "stdout",
     "output_type": "stream",
     "text": [
      "72.39213683941792\n",
      "82.97166198621395\n",
      "77.68189941281594\n"
     ]
    }
   ],
   "source": [
    "#Calulate number of students passing math and then use total student count to calculate % passing math. \n",
    "pass_math_df_cnt = students_df.loc[students_df[\"math_score\"] > 70,:][\"Student ID\"].count()\n",
    "#pass_math_df_cnt\n",
    "pass_math_percent = (pass_math_df_cnt / student_count)*100\n",
    "print(pass_math_percent)\n",
    "\n",
    "#Calc % passing reading in a similar fashion. \n",
    "pass_reading_df_cnt = students_df.loc[students_df[\"reading_score\"] > 70][\"Student ID\"].count()\n",
    "pass_reading_df_cnt\n",
    "pass_reading_percent = (pass_reading_df_cnt / student_count)*100\n",
    "print(pass_reading_percent)\n",
    "\n",
    "#calc overall pass percent as average of % passing math and % passing  reading.\n",
    "overall_pass_percent = (pass_math_percent + pass_reading_percent) / 2 \n",
    "print(overall_pass_percent)"
   ]
  },
  {
   "cell_type": "code",
   "execution_count": 7,
   "metadata": {},
   "outputs": [
    {
     "data": {
      "text/html": [
       "<div>\n",
       "<style scoped>\n",
       "    .dataframe tbody tr th:only-of-type {\n",
       "        vertical-align: middle;\n",
       "    }\n",
       "\n",
       "    .dataframe tbody tr th {\n",
       "        vertical-align: top;\n",
       "    }\n",
       "\n",
       "    .dataframe thead th {\n",
       "        text-align: right;\n",
       "    }\n",
       "</style>\n",
       "<table border=\"1\" class=\"dataframe\">\n",
       "  <thead>\n",
       "    <tr style=\"text-align: right;\">\n",
       "      <th></th>\n",
       "      <th>Total Schools</th>\n",
       "      <th>Total Students</th>\n",
       "      <th>Total Budget</th>\n",
       "      <th>Average Math Score</th>\n",
       "      <th>Average Reading Score</th>\n",
       "      <th>% Passing Math</th>\n",
       "      <th>% Passing Reading</th>\n",
       "      <th>Overall Passing Rate</th>\n",
       "    </tr>\n",
       "  </thead>\n",
       "  <tbody>\n",
       "    <tr>\n",
       "      <th>0</th>\n",
       "      <td>15</td>\n",
       "      <td>39170</td>\n",
       "      <td>24649428</td>\n",
       "      <td>78.985371</td>\n",
       "      <td>81.87784</td>\n",
       "      <td>72.392137</td>\n",
       "      <td>82.971662</td>\n",
       "      <td>77.681899</td>\n",
       "    </tr>\n",
       "  </tbody>\n",
       "</table>\n",
       "</div>"
      ],
      "text/plain": [
       "   Total Schools  Total Students  Total Budget  Average Math Score  \\\n",
       "0             15           39170      24649428           78.985371   \n",
       "\n",
       "   Average Reading Score  % Passing Math  % Passing Reading  \\\n",
       "0               81.87784       72.392137          82.971662   \n",
       "\n",
       "   Overall Passing Rate  \n",
       "0             77.681899  "
      ]
     },
     "execution_count": 7,
     "metadata": {},
     "output_type": "execute_result"
    }
   ],
   "source": [
    "#Create a summary dict with all the values calculated above and covert to a dataframe. \n",
    "summary_dict={\"Total Schools\": [school_count], \"Total Students\": [student_count],\"Total Budget\":tot_budget,\n",
    "              \"Average Math Score\":mean_math_score,\"Average Reading Score\":mean_reading_score,\n",
    "              \"% Passing Math\":pass_math_percent,\"% Passing Reading\":pass_reading_percent,\n",
    "              \"Overall Passing Rate\":overall_pass_percent}\n",
    "\n",
    "summary_dist_df = pd.DataFrame(summary_dict,columns=[\"Total Schools\",\"Total Students\",\"Total Budget\",\"Average Math Score\",\n",
    "                                                     \"Average Reading Score\",\"% Passing Math\",\"% Passing Reading\",\n",
    "                                                     \"Overall Passing Rate\"])\n",
    "summary_dist_df.head()"
   ]
  },
  {
   "cell_type": "markdown",
   "metadata": {},
   "source": [
    "### District Summary"
   ]
  },
  {
   "cell_type": "code",
   "execution_count": 8,
   "metadata": {},
   "outputs": [
    {
     "data": {
      "text/html": [
       "<div>\n",
       "<style scoped>\n",
       "    .dataframe tbody tr th:only-of-type {\n",
       "        vertical-align: middle;\n",
       "    }\n",
       "\n",
       "    .dataframe tbody tr th {\n",
       "        vertical-align: top;\n",
       "    }\n",
       "\n",
       "    .dataframe thead th {\n",
       "        text-align: right;\n",
       "    }\n",
       "</style>\n",
       "<table border=\"1\" class=\"dataframe\">\n",
       "  <thead>\n",
       "    <tr style=\"text-align: right;\">\n",
       "      <th></th>\n",
       "      <th>Total Schools</th>\n",
       "      <th>Total Students</th>\n",
       "      <th>Total Budget</th>\n",
       "      <th>Average Math Score</th>\n",
       "      <th>Average Reading Score</th>\n",
       "      <th>% Passing Math</th>\n",
       "      <th>% Passing Reading</th>\n",
       "      <th>Overall Passing Rate</th>\n",
       "    </tr>\n",
       "  </thead>\n",
       "  <tbody>\n",
       "    <tr>\n",
       "      <th>0</th>\n",
       "      <td>15</td>\n",
       "      <td>39,170</td>\n",
       "      <td>$24,649,428.00</td>\n",
       "      <td>78.985371</td>\n",
       "      <td>81.87784</td>\n",
       "      <td>72.392137</td>\n",
       "      <td>82.971662</td>\n",
       "      <td>77.681899</td>\n",
       "    </tr>\n",
       "  </tbody>\n",
       "</table>\n",
       "</div>"
      ],
      "text/plain": [
       "   Total Schools Total Students    Total Budget  Average Math Score  \\\n",
       "0             15         39,170  $24,649,428.00           78.985371   \n",
       "\n",
       "   Average Reading Score  % Passing Math  % Passing Reading  \\\n",
       "0               81.87784       72.392137          82.971662   \n",
       "\n",
       "   Overall Passing Rate  \n",
       "0             77.681899  "
      ]
     },
     "execution_count": 8,
     "metadata": {},
     "output_type": "execute_result"
    }
   ],
   "source": [
    "#Final district summary and formatting based on above values. \n",
    "summary_dist_df[\"Total Students\"] = summary_dist_df[\"Total Students\"].map(\"{:,}\".format)\n",
    "summary_dist_df[\"Total Budget\"]   = summary_dist_df[\"Total Budget\"].map(\"${:,.2f}\".format)\n",
    "summary_dist_df.head()"
   ]
  },
  {
   "cell_type": "markdown",
   "metadata": {},
   "source": [
    "### School Summary"
   ]
  },
  {
   "cell_type": "code",
   "execution_count": 9,
   "metadata": {},
   "outputs": [
    {
     "data": {
      "text/html": [
       "<div>\n",
       "<style scoped>\n",
       "    .dataframe tbody tr th:only-of-type {\n",
       "        vertical-align: middle;\n",
       "    }\n",
       "\n",
       "    .dataframe tbody tr th {\n",
       "        vertical-align: top;\n",
       "    }\n",
       "\n",
       "    .dataframe thead th {\n",
       "        text-align: right;\n",
       "    }\n",
       "</style>\n",
       "<table border=\"1\" class=\"dataframe\">\n",
       "  <thead>\n",
       "    <tr style=\"text-align: right;\">\n",
       "      <th></th>\n",
       "      <th>school_name</th>\n",
       "      <th>type</th>\n",
       "      <th>size</th>\n",
       "      <th>budget</th>\n",
       "    </tr>\n",
       "  </thead>\n",
       "  <tbody>\n",
       "    <tr>\n",
       "      <th>0</th>\n",
       "      <td>Huang High School</td>\n",
       "      <td>District</td>\n",
       "      <td>2917</td>\n",
       "      <td>1910635</td>\n",
       "    </tr>\n",
       "    <tr>\n",
       "      <th>1</th>\n",
       "      <td>Figueroa High School</td>\n",
       "      <td>District</td>\n",
       "      <td>2949</td>\n",
       "      <td>1884411</td>\n",
       "    </tr>\n",
       "  </tbody>\n",
       "</table>\n",
       "</div>"
      ],
      "text/plain": [
       "            school_name      type  size   budget\n",
       "0     Huang High School  District  2917  1910635\n",
       "1  Figueroa High School  District  2949  1884411"
      ]
     },
     "execution_count": 9,
     "metadata": {},
     "output_type": "execute_result"
    }
   ],
   "source": [
    "#Perform steps to determine values needed for school summary.\n",
    "schools_ren_df = schools_df.rename(columns={\"name\": \"school\"})\n",
    "#schools_ren_df = schools_ren_df.set_index(\"school\")\n",
    "del schools_ren_df[\"School ID\"]\n",
    "schools_ren_df.head(2)"
   ]
  },
  {
   "cell_type": "markdown",
   "metadata": {},
   "source": [
    "### Reading and math scores by school"
   ]
  },
  {
   "cell_type": "code",
   "execution_count": 10,
   "metadata": {},
   "outputs": [
    {
     "data": {
      "text/html": [
       "<div>\n",
       "<style scoped>\n",
       "    .dataframe tbody tr th:only-of-type {\n",
       "        vertical-align: middle;\n",
       "    }\n",
       "\n",
       "    .dataframe tbody tr th {\n",
       "        vertical-align: top;\n",
       "    }\n",
       "\n",
       "    .dataframe thead th {\n",
       "        text-align: right;\n",
       "    }\n",
       "</style>\n",
       "<table border=\"1\" class=\"dataframe\">\n",
       "  <thead>\n",
       "    <tr style=\"text-align: right;\">\n",
       "      <th></th>\n",
       "      <th>school_name</th>\n",
       "      <th>avg_reading_score</th>\n",
       "      <th>avg_math_score</th>\n",
       "    </tr>\n",
       "  </thead>\n",
       "  <tbody>\n",
       "    <tr>\n",
       "      <th>0</th>\n",
       "      <td>Bailey High School</td>\n",
       "      <td>81.033963</td>\n",
       "      <td>77.048432</td>\n",
       "    </tr>\n",
       "    <tr>\n",
       "      <th>1</th>\n",
       "      <td>Cabrera High School</td>\n",
       "      <td>83.975780</td>\n",
       "      <td>83.061895</td>\n",
       "    </tr>\n",
       "    <tr>\n",
       "      <th>2</th>\n",
       "      <td>Figueroa High School</td>\n",
       "      <td>81.158020</td>\n",
       "      <td>76.711767</td>\n",
       "    </tr>\n",
       "  </tbody>\n",
       "</table>\n",
       "</div>"
      ],
      "text/plain": [
       "            school_name  avg_reading_score  avg_math_score\n",
       "0    Bailey High School          81.033963       77.048432\n",
       "1   Cabrera High School          83.975780       83.061895\n",
       "2  Figueroa High School          81.158020       76.711767"
      ]
     },
     "execution_count": 10,
     "metadata": {},
     "output_type": "execute_result"
    }
   ],
   "source": [
    "#mean of reading and math scores by school\n",
    "students_df_groupsch_avg = students_df.groupby('school_name').mean()\n",
    "del students_df_groupsch_avg[\"Student ID\"]\n",
    "students_df_groupsch_avg.reset_index(level=0, inplace=True)\n",
    "students_df_groupsch_avg = students_df_groupsch_avg.rename(columns={\"reading_score\":\"avg_reading_score\",\n",
    "                                                                    \"math_score\":\"avg_math_score\"})\n",
    "#students_df_groupsch_avg[\"school\"]=students_df_groupsch_avg.index\n",
    "students_df_groupsch_avg.head(3)"
   ]
  },
  {
   "cell_type": "markdown",
   "metadata": {},
   "source": [
    "### Passing math by school"
   ]
  },
  {
   "cell_type": "code",
   "execution_count": 11,
   "metadata": {},
   "outputs": [
    {
     "data": {
      "text/html": [
       "<div>\n",
       "<style scoped>\n",
       "    .dataframe tbody tr th:only-of-type {\n",
       "        vertical-align: middle;\n",
       "    }\n",
       "\n",
       "    .dataframe tbody tr th {\n",
       "        vertical-align: top;\n",
       "    }\n",
       "\n",
       "    .dataframe thead th {\n",
       "        text-align: right;\n",
       "    }\n",
       "</style>\n",
       "<table border=\"1\" class=\"dataframe\">\n",
       "  <thead>\n",
       "    <tr style=\"text-align: right;\">\n",
       "      <th></th>\n",
       "      <th>school_name</th>\n",
       "      <th>pass_math_count</th>\n",
       "    </tr>\n",
       "  </thead>\n",
       "  <tbody>\n",
       "    <tr>\n",
       "      <th>0</th>\n",
       "      <td>Bailey High School</td>\n",
       "      <td>3216</td>\n",
       "    </tr>\n",
       "    <tr>\n",
       "      <th>1</th>\n",
       "      <td>Cabrera High School</td>\n",
       "      <td>1664</td>\n",
       "    </tr>\n",
       "    <tr>\n",
       "      <th>2</th>\n",
       "      <td>Figueroa High School</td>\n",
       "      <td>1880</td>\n",
       "    </tr>\n",
       "  </tbody>\n",
       "</table>\n",
       "</div>"
      ],
      "text/plain": [
       "            school_name  pass_math_count\n",
       "0    Bailey High School             3216\n",
       "1   Cabrera High School             1664\n",
       "2  Figueroa High School             1880"
      ]
     },
     "execution_count": 11,
     "metadata": {},
     "output_type": "execute_result"
    }
   ],
   "source": [
    "## Count of students passing math by school\n",
    "#students_df_groupsch.loc[students_df_groupsch[\"math_score\" > 70]]\n",
    "school_stu_math_df = students_df.loc[students_df[\"math_score\"] > 70,:]\n",
    "#school_stu_math_df_cnt= school_stu_math_df.groupby('school').count()\n",
    "#school_stu_math_df_cnt= school_stu_math_df.groupby('school')[\"Student ID\"].count()\n",
    "school_stu_math_df_cnt= school_stu_math_df.groupby('school_name').count()\n",
    "\n",
    "school_stu_math_df_cnt.reset_index(level=0,inplace=True)\n",
    "school_stu_math_df_cnt=school_stu_math_df_cnt[[\"school_name\", \"math_score\"]]\n",
    "school_stu_math_df_cnt = school_stu_math_df_cnt.rename(columns={\"math_score\":\"pass_math_count\"})\n",
    "school_stu_math_df_cnt.head(3)"
   ]
  },
  {
   "cell_type": "code",
   "execution_count": 12,
   "metadata": {},
   "outputs": [
    {
     "data": {
      "text/html": [
       "<div>\n",
       "<style scoped>\n",
       "    .dataframe tbody tr th:only-of-type {\n",
       "        vertical-align: middle;\n",
       "    }\n",
       "\n",
       "    .dataframe tbody tr th {\n",
       "        vertical-align: top;\n",
       "    }\n",
       "\n",
       "    .dataframe thead th {\n",
       "        text-align: right;\n",
       "    }\n",
       "</style>\n",
       "<table border=\"1\" class=\"dataframe\">\n",
       "  <thead>\n",
       "    <tr style=\"text-align: right;\">\n",
       "      <th></th>\n",
       "      <th>school_name</th>\n",
       "      <th>student_name</th>\n",
       "    </tr>\n",
       "  </thead>\n",
       "  <tbody>\n",
       "    <tr>\n",
       "      <th>0</th>\n",
       "      <td>Bailey High School</td>\n",
       "      <td>4976</td>\n",
       "    </tr>\n",
       "    <tr>\n",
       "      <th>1</th>\n",
       "      <td>Cabrera High School</td>\n",
       "      <td>1858</td>\n",
       "    </tr>\n",
       "    <tr>\n",
       "      <th>2</th>\n",
       "      <td>Figueroa High School</td>\n",
       "      <td>2949</td>\n",
       "    </tr>\n",
       "  </tbody>\n",
       "</table>\n",
       "</div>"
      ],
      "text/plain": [
       "            school_name  student_name\n",
       "0    Bailey High School          4976\n",
       "1   Cabrera High School          1858\n",
       "2  Figueroa High School          2949"
      ]
     },
     "execution_count": 12,
     "metadata": {},
     "output_type": "execute_result"
    }
   ],
   "source": [
    "#total students by school.\n",
    "students_df_groupsch_totstudents = students_df.groupby('school_name').count()\n",
    "#students_df_groupsch_totstudents = students_df.groupby(['school'])[\"name\"].count()\n",
    "\n",
    "#students_df_groupsch_totstudents = pd.DataFrame(students_df_groupsch_totstudents,columns=[\"Total Student Count\"])\n",
    "students_df_groupsch_totstudents.reset_index(level=0,inplace=True)\n",
    "#del students_df_groupsch_totstudents[[\"name\",\"gender\",\"grade\",\"reading_score\",\"math_score\"]]\n",
    "students_df_groupsch_totstudents= students_df_groupsch_totstudents[[\"school_name\",\"student_name\"]]\n",
    "students_df_groupsch_totstudents = students_df_groupsch_totstudents.rename(columns={\"name\":\"Total_student_count\"})\n",
    "students_df_groupsch_totstudents.head(3)"
   ]
  },
  {
   "cell_type": "markdown",
   "metadata": {},
   "source": [
    "### Passing reading by school"
   ]
  },
  {
   "cell_type": "code",
   "execution_count": 13,
   "metadata": {},
   "outputs": [
    {
     "data": {
      "text/html": [
       "<div>\n",
       "<style scoped>\n",
       "    .dataframe tbody tr th:only-of-type {\n",
       "        vertical-align: middle;\n",
       "    }\n",
       "\n",
       "    .dataframe tbody tr th {\n",
       "        vertical-align: top;\n",
       "    }\n",
       "\n",
       "    .dataframe thead th {\n",
       "        text-align: right;\n",
       "    }\n",
       "</style>\n",
       "<table border=\"1\" class=\"dataframe\">\n",
       "  <thead>\n",
       "    <tr style=\"text-align: right;\">\n",
       "      <th></th>\n",
       "      <th>school_name</th>\n",
       "      <th>pass_reading_cnt</th>\n",
       "    </tr>\n",
       "  </thead>\n",
       "  <tbody>\n",
       "    <tr>\n",
       "      <th>0</th>\n",
       "      <td>Bailey High School</td>\n",
       "      <td>3946</td>\n",
       "    </tr>\n",
       "    <tr>\n",
       "      <th>1</th>\n",
       "      <td>Cabrera High School</td>\n",
       "      <td>1744</td>\n",
       "    </tr>\n",
       "    <tr>\n",
       "      <th>2</th>\n",
       "      <td>Figueroa High School</td>\n",
       "      <td>2313</td>\n",
       "    </tr>\n",
       "  </tbody>\n",
       "</table>\n",
       "</div>"
      ],
      "text/plain": [
       "            school_name  pass_reading_cnt\n",
       "0    Bailey High School              3946\n",
       "1   Cabrera High School              1744\n",
       "2  Figueroa High School              2313"
      ]
     },
     "execution_count": 13,
     "metadata": {},
     "output_type": "execute_result"
    }
   ],
   "source": [
    "#Count of students passing reading.\n",
    "school_stu_read_df = students_df.loc[students_df[\"reading_score\"] > 70,:]\n",
    "#school_stu_read_df.head(10)\n",
    "#school_stu_read_df_cnt= school_stu_read_df.groupby('school')[\"name\"].count()\n",
    "school_stu_read_df_cnt= school_stu_read_df.groupby('school_name').count()\n",
    "school_stu_read_df_cnt.reset_index(level=0,inplace=True)\n",
    "school_stu_read_df_cnt=school_stu_read_df_cnt[[\"school_name\",\"reading_score\"]]\n",
    "#rename column to pass reading count \n",
    "school_stu_read_df_cnt=school_stu_read_df_cnt.rename(columns={\"reading_score\":\"pass_reading_cnt\"})\n",
    "school_stu_read_df_cnt.head(3)"
   ]
  },
  {
   "cell_type": "markdown",
   "metadata": {},
   "source": [
    "### Merge school & average scores"
   ]
  },
  {
   "cell_type": "code",
   "execution_count": 14,
   "metadata": {},
   "outputs": [
    {
     "data": {
      "text/html": [
       "<div>\n",
       "<style scoped>\n",
       "    .dataframe tbody tr th:only-of-type {\n",
       "        vertical-align: middle;\n",
       "    }\n",
       "\n",
       "    .dataframe tbody tr th {\n",
       "        vertical-align: top;\n",
       "    }\n",
       "\n",
       "    .dataframe thead th {\n",
       "        text-align: right;\n",
       "    }\n",
       "</style>\n",
       "<table border=\"1\" class=\"dataframe\">\n",
       "  <thead>\n",
       "    <tr style=\"text-align: right;\">\n",
       "      <th></th>\n",
       "      <th>school_name</th>\n",
       "      <th>type</th>\n",
       "      <th>size</th>\n",
       "      <th>budget</th>\n",
       "      <th>avg_reading_score</th>\n",
       "      <th>avg_math_score</th>\n",
       "    </tr>\n",
       "  </thead>\n",
       "  <tbody>\n",
       "    <tr>\n",
       "      <th>0</th>\n",
       "      <td>Huang High School</td>\n",
       "      <td>District</td>\n",
       "      <td>2917</td>\n",
       "      <td>1910635</td>\n",
       "      <td>81.182722</td>\n",
       "      <td>76.629414</td>\n",
       "    </tr>\n",
       "    <tr>\n",
       "      <th>1</th>\n",
       "      <td>Figueroa High School</td>\n",
       "      <td>District</td>\n",
       "      <td>2949</td>\n",
       "      <td>1884411</td>\n",
       "      <td>81.158020</td>\n",
       "      <td>76.711767</td>\n",
       "    </tr>\n",
       "    <tr>\n",
       "      <th>2</th>\n",
       "      <td>Shelton High School</td>\n",
       "      <td>Charter</td>\n",
       "      <td>1761</td>\n",
       "      <td>1056600</td>\n",
       "      <td>83.725724</td>\n",
       "      <td>83.359455</td>\n",
       "    </tr>\n",
       "  </tbody>\n",
       "</table>\n",
       "</div>"
      ],
      "text/plain": [
       "            school_name      type  size   budget  avg_reading_score  \\\n",
       "0     Huang High School  District  2917  1910635          81.182722   \n",
       "1  Figueroa High School  District  2949  1884411          81.158020   \n",
       "2   Shelton High School   Charter  1761  1056600          83.725724   \n",
       "\n",
       "   avg_math_score  \n",
       "0       76.629414  \n",
       "1       76.711767  \n",
       "2       83.359455  "
      ]
     },
     "execution_count": 14,
     "metadata": {},
     "output_type": "execute_result"
    }
   ],
   "source": [
    "#merge school info and average scores for new summary dataframe1\n",
    "school_mrg1= pd.merge(schools_ren_df ,students_df_groupsch_avg, on=\"school_name\")\n",
    "school_mrg1.head(3)"
   ]
  },
  {
   "cell_type": "code",
   "execution_count": 15,
   "metadata": {},
   "outputs": [
    {
     "data": {
      "text/html": [
       "<div>\n",
       "<style scoped>\n",
       "    .dataframe tbody tr th:only-of-type {\n",
       "        vertical-align: middle;\n",
       "    }\n",
       "\n",
       "    .dataframe tbody tr th {\n",
       "        vertical-align: top;\n",
       "    }\n",
       "\n",
       "    .dataframe thead th {\n",
       "        text-align: right;\n",
       "    }\n",
       "</style>\n",
       "<table border=\"1\" class=\"dataframe\">\n",
       "  <thead>\n",
       "    <tr style=\"text-align: right;\">\n",
       "      <th></th>\n",
       "      <th>school_name</th>\n",
       "      <th>pass_reading_cnt</th>\n",
       "    </tr>\n",
       "  </thead>\n",
       "  <tbody>\n",
       "    <tr>\n",
       "      <th>0</th>\n",
       "      <td>Bailey High School</td>\n",
       "      <td>3946</td>\n",
       "    </tr>\n",
       "    <tr>\n",
       "      <th>1</th>\n",
       "      <td>Cabrera High School</td>\n",
       "      <td>1744</td>\n",
       "    </tr>\n",
       "    <tr>\n",
       "      <th>2</th>\n",
       "      <td>Figueroa High School</td>\n",
       "      <td>2313</td>\n",
       "    </tr>\n",
       "  </tbody>\n",
       "</table>\n",
       "</div>"
      ],
      "text/plain": [
       "            school_name  pass_reading_cnt\n",
       "0    Bailey High School              3946\n",
       "1   Cabrera High School              1744\n",
       "2  Figueroa High School              2313"
      ]
     },
     "execution_count": 15,
     "metadata": {},
     "output_type": "execute_result"
    }
   ],
   "source": [
    "school_mrg1b= pd.merge(school_mrg1, students_df_groupsch_totstudents, on=\"school_name\" )\n",
    "#rename column to pass reading count \n",
    "school_stu_read_df_cnt.head(3)"
   ]
  },
  {
   "cell_type": "markdown",
   "metadata": {},
   "source": [
    "### Merge with total students"
   ]
  },
  {
   "cell_type": "code",
   "execution_count": 16,
   "metadata": {},
   "outputs": [
    {
     "data": {
      "text/html": [
       "<div>\n",
       "<style scoped>\n",
       "    .dataframe tbody tr th:only-of-type {\n",
       "        vertical-align: middle;\n",
       "    }\n",
       "\n",
       "    .dataframe tbody tr th {\n",
       "        vertical-align: top;\n",
       "    }\n",
       "\n",
       "    .dataframe thead th {\n",
       "        text-align: right;\n",
       "    }\n",
       "</style>\n",
       "<table border=\"1\" class=\"dataframe\">\n",
       "  <thead>\n",
       "    <tr style=\"text-align: right;\">\n",
       "      <th></th>\n",
       "      <th>school_name</th>\n",
       "      <th>student_count</th>\n",
       "    </tr>\n",
       "  </thead>\n",
       "  <tbody>\n",
       "    <tr>\n",
       "      <th>0</th>\n",
       "      <td>Bailey High School</td>\n",
       "      <td>3946</td>\n",
       "    </tr>\n",
       "    <tr>\n",
       "      <th>1</th>\n",
       "      <td>Cabrera High School</td>\n",
       "      <td>1744</td>\n",
       "    </tr>\n",
       "    <tr>\n",
       "      <th>2</th>\n",
       "      <td>Figueroa High School</td>\n",
       "      <td>2313</td>\n",
       "    </tr>\n",
       "  </tbody>\n",
       "</table>\n",
       "</div>"
      ],
      "text/plain": [
       "            school_name  student_count\n",
       "0    Bailey High School           3946\n",
       "1   Cabrera High School           1744\n",
       "2  Figueroa High School           2313"
      ]
     },
     "execution_count": 16,
     "metadata": {},
     "output_type": "execute_result"
    }
   ],
   "source": [
    "#merge the dataframe with total students into the above mrg1 dataframe\n",
    "school_mrg2 = pd.merge(school_mrg1b,students_df_groupsch_avg, on=\"school_name\")\n",
    "school_mrg2=school_stu_read_df_cnt.rename(columns={\"pass_reading_cnt\":\"student_count\"})\n",
    "school_mrg2.head(3)"
   ]
  },
  {
   "cell_type": "markdown",
   "metadata": {},
   "source": [
    "### Merge pass math & reading total students"
   ]
  },
  {
   "cell_type": "code",
   "execution_count": 37,
   "metadata": {},
   "outputs": [
    {
     "data": {
      "text/html": [
       "<div>\n",
       "<style scoped>\n",
       "    .dataframe tbody tr th:only-of-type {\n",
       "        vertical-align: middle;\n",
       "    }\n",
       "\n",
       "    .dataframe tbody tr th {\n",
       "        vertical-align: top;\n",
       "    }\n",
       "\n",
       "    .dataframe thead th {\n",
       "        text-align: right;\n",
       "    }\n",
       "</style>\n",
       "<table border=\"1\" class=\"dataframe\">\n",
       "  <thead>\n",
       "    <tr style=\"text-align: right;\">\n",
       "      <th></th>\n",
       "      <th>school_name</th>\n",
       "      <th>pass_reading_cnt</th>\n",
       "      <th>pass_math_count</th>\n",
       "    </tr>\n",
       "  </thead>\n",
       "  <tbody>\n",
       "    <tr>\n",
       "      <th>0</th>\n",
       "      <td>Bailey High School</td>\n",
       "      <td>3946</td>\n",
       "      <td>3216</td>\n",
       "    </tr>\n",
       "    <tr>\n",
       "      <th>1</th>\n",
       "      <td>Cabrera High School</td>\n",
       "      <td>1744</td>\n",
       "      <td>1664</td>\n",
       "    </tr>\n",
       "    <tr>\n",
       "      <th>2</th>\n",
       "      <td>Figueroa High School</td>\n",
       "      <td>2313</td>\n",
       "      <td>1880</td>\n",
       "    </tr>\n",
       "  </tbody>\n",
       "</table>\n",
       "</div>"
      ],
      "text/plain": [
       "            school_name  pass_reading_cnt  pass_math_count\n",
       "0    Bailey High School              3946             3216\n",
       "1   Cabrera High School              1744             1664\n",
       "2  Figueroa High School              2313             1880"
      ]
     },
     "execution_count": 37,
     "metadata": {},
     "output_type": "execute_result"
    }
   ],
   "source": [
    "school_readmath_cnt_mrg3 = pd.merge(school_stu_read_df_cnt, school_stu_math_df_cnt, on=\"school_name\")\n",
    "school_readmath_cnt_mrg3.head(3)\n"
   ]
  },
  {
   "cell_type": "markdown",
   "metadata": {},
   "source": [
    "### Add math and student pass & Per Student Budget"
   ]
  },
  {
   "cell_type": "code",
   "execution_count": 38,
   "metadata": {},
   "outputs": [],
   "source": [
    "# add math and student pass counts to the merge dataframe - result is mrg4.\n",
    "school_mrg4 = pd.merge(school_mrg2 ,school_readmath_cnt_mrg3, on=\"school_name\")"
   ]
  },
  {
   "cell_type": "code",
   "execution_count": 39,
   "metadata": {},
   "outputs": [
    {
     "data": {
      "text/html": [
       "<div>\n",
       "<style scoped>\n",
       "    .dataframe tbody tr th:only-of-type {\n",
       "        vertical-align: middle;\n",
       "    }\n",
       "\n",
       "    .dataframe tbody tr th {\n",
       "        vertical-align: top;\n",
       "    }\n",
       "\n",
       "    .dataframe thead th {\n",
       "        text-align: right;\n",
       "    }\n",
       "</style>\n",
       "<table border=\"1\" class=\"dataframe\">\n",
       "  <thead>\n",
       "    <tr style=\"text-align: right;\">\n",
       "      <th></th>\n",
       "      <th>school_name</th>\n",
       "      <th>student_count</th>\n",
       "      <th>student_count</th>\n",
       "      <th>pass_math_count</th>\n",
       "      <th>percent passing math</th>\n",
       "      <th>percent passing Reading</th>\n",
       "      <th>Per Student Budget</th>\n",
       "    </tr>\n",
       "  </thead>\n",
       "  <tbody>\n",
       "    <tr>\n",
       "      <th>0</th>\n",
       "      <td>Bailey High School</td>\n",
       "      <td>3946</td>\n",
       "      <td>3946</td>\n",
       "      <td>3216</td>\n",
       "      <td>81.500253</td>\n",
       "      <td>100.0</td>\n",
       "      <td>484.195388</td>\n",
       "    </tr>\n",
       "    <tr>\n",
       "      <th>1</th>\n",
       "      <td>Cabrera High School</td>\n",
       "      <td>1744</td>\n",
       "      <td>1744</td>\n",
       "      <td>1664</td>\n",
       "      <td>95.412844</td>\n",
       "      <td>100.0</td>\n",
       "      <td>1080.510894</td>\n",
       "    </tr>\n",
       "    <tr>\n",
       "      <th>2</th>\n",
       "      <td>Figueroa High School</td>\n",
       "      <td>2313</td>\n",
       "      <td>2313</td>\n",
       "      <td>1880</td>\n",
       "      <td>81.279723</td>\n",
       "      <td>100.0</td>\n",
       "      <td>456.809339</td>\n",
       "    </tr>\n",
       "  </tbody>\n",
       "</table>\n",
       "</div>"
      ],
      "text/plain": [
       "            school_name  student_count  student_count  pass_math_count  \\\n",
       "0    Bailey High School           3946           3946             3216   \n",
       "1   Cabrera High School           1744           1744             1664   \n",
       "2  Figueroa High School           2313           2313             1880   \n",
       "\n",
       "   percent passing math  percent passing Reading  Per Student Budget  \n",
       "0             81.500253                    100.0          484.195388  \n",
       "1             95.412844                    100.0         1080.510894  \n",
       "2             81.279723                    100.0          456.809339  "
      ]
     },
     "execution_count": 39,
     "metadata": {},
     "output_type": "execute_result"
    }
   ],
   "source": [
    "#Calculate % passing Math and percent passing reading. \n",
    "school_mrg4[\"percent passing math\"] = (school_mrg4[\"pass_math_count\"] * 100)/(school_mrg4[\"student_count\"])\n",
    "school_mrg4[\"percent passing Reading\"] = (school_mrg4[\"pass_reading_cnt\"] * 100)/(school_mrg4[\"student_count\"])\n",
    "school_mrg4[\"Per Student Budget\"] = schools_ren_df[\"budget\"]/school_mrg4[\"student_count\"]\n",
    "school_mrg4=school_mrg4.rename(columns={\"pass_reading_cnt\":\"student_count\"})\n",
    "school_mrg4.head(3)"
   ]
  },
  {
   "cell_type": "markdown",
   "metadata": {},
   "source": [
    "### Rename columns"
   ]
  },
  {
   "cell_type": "code",
   "execution_count": 40,
   "metadata": {},
   "outputs": [
    {
     "data": {
      "text/html": [
       "<div>\n",
       "<style scoped>\n",
       "    .dataframe tbody tr th:only-of-type {\n",
       "        vertical-align: middle;\n",
       "    }\n",
       "\n",
       "    .dataframe tbody tr th {\n",
       "        vertical-align: top;\n",
       "    }\n",
       "\n",
       "    .dataframe thead th {\n",
       "        text-align: right;\n",
       "    }\n",
       "</style>\n",
       "<table border=\"1\" class=\"dataframe\">\n",
       "  <thead>\n",
       "    <tr style=\"text-align: right;\">\n",
       "      <th></th>\n",
       "      <th>School Name</th>\n",
       "      <th>Total Students</th>\n",
       "      <th>Total Students</th>\n",
       "      <th>Passing Math Totals</th>\n",
       "      <th>% Passing Math</th>\n",
       "      <th>% Passing Reading</th>\n",
       "      <th>Per Student Budget</th>\n",
       "    </tr>\n",
       "  </thead>\n",
       "  <tbody>\n",
       "    <tr>\n",
       "      <th>0</th>\n",
       "      <td>Bailey High School</td>\n",
       "      <td>3946</td>\n",
       "      <td>3946</td>\n",
       "      <td>3216</td>\n",
       "      <td>81.500253</td>\n",
       "      <td>100.0</td>\n",
       "      <td>484.195388</td>\n",
       "    </tr>\n",
       "    <tr>\n",
       "      <th>1</th>\n",
       "      <td>Cabrera High School</td>\n",
       "      <td>1744</td>\n",
       "      <td>1744</td>\n",
       "      <td>1664</td>\n",
       "      <td>95.412844</td>\n",
       "      <td>100.0</td>\n",
       "      <td>1080.510894</td>\n",
       "    </tr>\n",
       "    <tr>\n",
       "      <th>2</th>\n",
       "      <td>Figueroa High School</td>\n",
       "      <td>2313</td>\n",
       "      <td>2313</td>\n",
       "      <td>1880</td>\n",
       "      <td>81.279723</td>\n",
       "      <td>100.0</td>\n",
       "      <td>456.809339</td>\n",
       "    </tr>\n",
       "  </tbody>\n",
       "</table>\n",
       "</div>"
      ],
      "text/plain": [
       "            School Name  Total Students  Total Students  Passing Math Totals  \\\n",
       "0    Bailey High School            3946            3946                 3216   \n",
       "1   Cabrera High School            1744            1744                 1664   \n",
       "2  Figueroa High School            2313            2313                 1880   \n",
       "\n",
       "   % Passing Math  % Passing Reading  Per Student Budget  \n",
       "0       81.500253              100.0          484.195388  \n",
       "1       95.412844              100.0         1080.510894  \n",
       "2       81.279723              100.0          456.809339  "
      ]
     },
     "execution_count": 40,
     "metadata": {},
     "output_type": "execute_result"
    }
   ],
   "source": [
    "#Rename columns to meaningful names \n",
    "school_mrg4 = school_mrg4.rename(columns={\"school_name\":\"School Name\",\"type\":\"School Type\",\"pass_math_count\":\"Passing Math Totals\",\n",
    "                   \"avg_reading_score\":\"Average Reading Score\",\"avg_math_score\":\"Average Math Score\",\n",
    "                    \"student_count\":\"Total Students\",\"percent passing math\":\"% Passing Math\",\n",
    "                   \"percent passing Reading\":\"% Passing Reading\",\"overall passing rate\":\"Overall Passing Rate\",\n",
    "                   \"Per Student Budget\":\"Per Student Budget\"})\n",
    "school_mrg4.head(3)"
   ]
  },
  {
   "cell_type": "markdown",
   "metadata": {},
   "source": [
    "### School summary merge (could not get to work)"
   ]
  },
  {
   "cell_type": "code",
   "execution_count": 47,
   "metadata": {},
   "outputs": [],
   "source": [
    "school_summary_merge = pd.merge(summary_dist_df, school_mrg4, on='school_name')"
   ]
  },
  {
   "cell_type": "code",
   "execution_count": null,
   "metadata": {},
   "outputs": [],
   "source": [
    "\n",
    "\n",
    "School_summary_df = school_mrg4[[\"School Name\",\"School Type\",\"Total Students\",\"Total School Budget\",\"Per Student Budget\",\n",
    "                                 \"Average Math Score\",\"Average Reading Score\",\"% Passing Math\",\"% Passing Reading\",\n",
    "                                 \"Overall Passing Rate\"]]\n",
    "#convert budget amounts to numeric values before formatting. \n",
    "School_summary_df['Total School Budget'] = pd.to_numeric(School_summary_df[\"Total School Budget\"])\n",
    "School_summary_df['Per Student Budget'] = pd.to_numeric(School_summary_df[\"Per Student Budget\"])\n",
    "##School_summary_df.head(3)\n",
    "##School_summary_df.dtypes\n",
    "#Keep a dataframe with numeric values for relevant fields. \n",
    "School_summary_dfnum = School_summary_df.copy()\n",
    "School_summary_dfnum.head(3)\n",
    "#School_summary_dfnum.dtypes"
   ]
  },
  {
   "cell_type": "code",
   "execution_count": null,
   "metadata": {},
   "outputs": [],
   "source": []
  },
  {
   "cell_type": "code",
   "execution_count": null,
   "metadata": {},
   "outputs": [],
   "source": []
  },
  {
   "cell_type": "code",
   "execution_count": null,
   "metadata": {},
   "outputs": [],
   "source": []
  },
  {
   "cell_type": "code",
   "execution_count": null,
   "metadata": {},
   "outputs": [],
   "source": []
  }
 ],
 "metadata": {
  "kernelspec": {
   "display_name": "Python 3",
   "language": "python",
   "name": "python3"
  },
  "language_info": {
   "codemirror_mode": {
    "name": "ipython",
    "version": 3
   },
   "file_extension": ".py",
   "mimetype": "text/x-python",
   "name": "python",
   "nbconvert_exporter": "python",
   "pygments_lexer": "ipython3",
   "version": "3.7.1"
  }
 },
 "nbformat": 4,
 "nbformat_minor": 2
}
